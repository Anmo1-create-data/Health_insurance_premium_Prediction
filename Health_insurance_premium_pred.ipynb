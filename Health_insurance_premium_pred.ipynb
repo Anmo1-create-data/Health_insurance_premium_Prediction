{
 "cells": [
  {
   "cell_type": "code",
   "execution_count": 1,
   "metadata": {},
   "outputs": [],
   "source": [
    "import pandas as pd\n",
    "import numpy as np\n",
    "import matplotlib.pyplot as plt\n",
    "%matplotlib inline\n",
    "import seaborn as sns"
   ]
  },
  {
   "cell_type": "code",
   "execution_count": 2,
   "metadata": {},
   "outputs": [
    {
     "data": {
      "text/html": [
       "<div>\n",
       "<style scoped>\n",
       "    .dataframe tbody tr th:only-of-type {\n",
       "        vertical-align: middle;\n",
       "    }\n",
       "\n",
       "    .dataframe tbody tr th {\n",
       "        vertical-align: top;\n",
       "    }\n",
       "\n",
       "    .dataframe thead th {\n",
       "        text-align: right;\n",
       "    }\n",
       "</style>\n",
       "<table border=\"1\" class=\"dataframe\">\n",
       "  <thead>\n",
       "    <tr style=\"text-align: right;\">\n",
       "      <th></th>\n",
       "      <th>age</th>\n",
       "      <th>sex</th>\n",
       "      <th>bmi</th>\n",
       "      <th>children</th>\n",
       "      <th>smoker</th>\n",
       "      <th>region</th>\n",
       "      <th>charges</th>\n",
       "    </tr>\n",
       "  </thead>\n",
       "  <tbody>\n",
       "    <tr>\n",
       "      <th>0</th>\n",
       "      <td>19</td>\n",
       "      <td>female</td>\n",
       "      <td>27.900</td>\n",
       "      <td>0</td>\n",
       "      <td>yes</td>\n",
       "      <td>southwest</td>\n",
       "      <td>16884.92400</td>\n",
       "    </tr>\n",
       "    <tr>\n",
       "      <th>1</th>\n",
       "      <td>18</td>\n",
       "      <td>male</td>\n",
       "      <td>33.770</td>\n",
       "      <td>1</td>\n",
       "      <td>no</td>\n",
       "      <td>southeast</td>\n",
       "      <td>1725.55230</td>\n",
       "    </tr>\n",
       "    <tr>\n",
       "      <th>2</th>\n",
       "      <td>28</td>\n",
       "      <td>male</td>\n",
       "      <td>33.000</td>\n",
       "      <td>3</td>\n",
       "      <td>no</td>\n",
       "      <td>southeast</td>\n",
       "      <td>4449.46200</td>\n",
       "    </tr>\n",
       "    <tr>\n",
       "      <th>3</th>\n",
       "      <td>33</td>\n",
       "      <td>male</td>\n",
       "      <td>22.705</td>\n",
       "      <td>0</td>\n",
       "      <td>no</td>\n",
       "      <td>northwest</td>\n",
       "      <td>21984.47061</td>\n",
       "    </tr>\n",
       "    <tr>\n",
       "      <th>4</th>\n",
       "      <td>32</td>\n",
       "      <td>male</td>\n",
       "      <td>28.880</td>\n",
       "      <td>0</td>\n",
       "      <td>no</td>\n",
       "      <td>northwest</td>\n",
       "      <td>3866.85520</td>\n",
       "    </tr>\n",
       "    <tr>\n",
       "      <th>...</th>\n",
       "      <td>...</td>\n",
       "      <td>...</td>\n",
       "      <td>...</td>\n",
       "      <td>...</td>\n",
       "      <td>...</td>\n",
       "      <td>...</td>\n",
       "      <td>...</td>\n",
       "    </tr>\n",
       "    <tr>\n",
       "      <th>1333</th>\n",
       "      <td>50</td>\n",
       "      <td>male</td>\n",
       "      <td>30.970</td>\n",
       "      <td>3</td>\n",
       "      <td>no</td>\n",
       "      <td>northwest</td>\n",
       "      <td>10600.54830</td>\n",
       "    </tr>\n",
       "    <tr>\n",
       "      <th>1334</th>\n",
       "      <td>18</td>\n",
       "      <td>female</td>\n",
       "      <td>31.920</td>\n",
       "      <td>0</td>\n",
       "      <td>no</td>\n",
       "      <td>northeast</td>\n",
       "      <td>2205.98080</td>\n",
       "    </tr>\n",
       "    <tr>\n",
       "      <th>1335</th>\n",
       "      <td>18</td>\n",
       "      <td>female</td>\n",
       "      <td>36.850</td>\n",
       "      <td>0</td>\n",
       "      <td>no</td>\n",
       "      <td>southeast</td>\n",
       "      <td>1629.83350</td>\n",
       "    </tr>\n",
       "    <tr>\n",
       "      <th>1336</th>\n",
       "      <td>21</td>\n",
       "      <td>female</td>\n",
       "      <td>25.800</td>\n",
       "      <td>0</td>\n",
       "      <td>no</td>\n",
       "      <td>southwest</td>\n",
       "      <td>2007.94500</td>\n",
       "    </tr>\n",
       "    <tr>\n",
       "      <th>1337</th>\n",
       "      <td>61</td>\n",
       "      <td>female</td>\n",
       "      <td>29.070</td>\n",
       "      <td>0</td>\n",
       "      <td>yes</td>\n",
       "      <td>northwest</td>\n",
       "      <td>29141.36030</td>\n",
       "    </tr>\n",
       "  </tbody>\n",
       "</table>\n",
       "<p>1338 rows × 7 columns</p>\n",
       "</div>"
      ],
      "text/plain": [
       "      age     sex     bmi  children smoker     region      charges\n",
       "0      19  female  27.900         0    yes  southwest  16884.92400\n",
       "1      18    male  33.770         1     no  southeast   1725.55230\n",
       "2      28    male  33.000         3     no  southeast   4449.46200\n",
       "3      33    male  22.705         0     no  northwest  21984.47061\n",
       "4      32    male  28.880         0     no  northwest   3866.85520\n",
       "...   ...     ...     ...       ...    ...        ...          ...\n",
       "1333   50    male  30.970         3     no  northwest  10600.54830\n",
       "1334   18  female  31.920         0     no  northeast   2205.98080\n",
       "1335   18  female  36.850         0     no  southeast   1629.83350\n",
       "1336   21  female  25.800         0     no  southwest   2007.94500\n",
       "1337   61  female  29.070         0    yes  northwest  29141.36030\n",
       "\n",
       "[1338 rows x 7 columns]"
      ]
     },
     "execution_count": 2,
     "metadata": {},
     "output_type": "execute_result"
    }
   ],
   "source": [
    "df=pd.read_csv(r\"D:\\Datasets\\Health_insurance.csv\")\n",
    "df"
   ]
  },
  {
   "cell_type": "code",
   "execution_count": 3,
   "metadata": {},
   "outputs": [
    {
     "name": "stdout",
     "output_type": "stream",
     "text": [
      "<class 'pandas.core.frame.DataFrame'>\n",
      "RangeIndex: 1338 entries, 0 to 1337\n",
      "Data columns (total 7 columns):\n",
      " #   Column    Non-Null Count  Dtype  \n",
      "---  ------    --------------  -----  \n",
      " 0   age       1338 non-null   int64  \n",
      " 1   sex       1338 non-null   object \n",
      " 2   bmi       1338 non-null   float64\n",
      " 3   children  1338 non-null   int64  \n",
      " 4   smoker    1338 non-null   object \n",
      " 5   region    1338 non-null   object \n",
      " 6   charges   1338 non-null   float64\n",
      "dtypes: float64(2), int64(2), object(3)\n",
      "memory usage: 73.3+ KB\n"
     ]
    }
   ],
   "source": [
    "df.info()"
   ]
  },
  {
   "cell_type": "code",
   "execution_count": 4,
   "metadata": {},
   "outputs": [
    {
     "data": {
      "text/html": [
       "<div>\n",
       "<style scoped>\n",
       "    .dataframe tbody tr th:only-of-type {\n",
       "        vertical-align: middle;\n",
       "    }\n",
       "\n",
       "    .dataframe tbody tr th {\n",
       "        vertical-align: top;\n",
       "    }\n",
       "\n",
       "    .dataframe thead th {\n",
       "        text-align: right;\n",
       "    }\n",
       "</style>\n",
       "<table border=\"1\" class=\"dataframe\">\n",
       "  <thead>\n",
       "    <tr style=\"text-align: right;\">\n",
       "      <th></th>\n",
       "      <th>age</th>\n",
       "      <th>bmi</th>\n",
       "      <th>children</th>\n",
       "      <th>charges</th>\n",
       "    </tr>\n",
       "  </thead>\n",
       "  <tbody>\n",
       "    <tr>\n",
       "      <th>count</th>\n",
       "      <td>1338.000000</td>\n",
       "      <td>1338.000000</td>\n",
       "      <td>1338.000000</td>\n",
       "      <td>1338.000000</td>\n",
       "    </tr>\n",
       "    <tr>\n",
       "      <th>mean</th>\n",
       "      <td>39.207025</td>\n",
       "      <td>30.663397</td>\n",
       "      <td>1.094918</td>\n",
       "      <td>13270.422265</td>\n",
       "    </tr>\n",
       "    <tr>\n",
       "      <th>std</th>\n",
       "      <td>14.049960</td>\n",
       "      <td>6.098187</td>\n",
       "      <td>1.205493</td>\n",
       "      <td>12110.011237</td>\n",
       "    </tr>\n",
       "    <tr>\n",
       "      <th>min</th>\n",
       "      <td>18.000000</td>\n",
       "      <td>15.960000</td>\n",
       "      <td>0.000000</td>\n",
       "      <td>1121.873900</td>\n",
       "    </tr>\n",
       "    <tr>\n",
       "      <th>25%</th>\n",
       "      <td>27.000000</td>\n",
       "      <td>26.296250</td>\n",
       "      <td>0.000000</td>\n",
       "      <td>4740.287150</td>\n",
       "    </tr>\n",
       "    <tr>\n",
       "      <th>50%</th>\n",
       "      <td>39.000000</td>\n",
       "      <td>30.400000</td>\n",
       "      <td>1.000000</td>\n",
       "      <td>9382.033000</td>\n",
       "    </tr>\n",
       "    <tr>\n",
       "      <th>75%</th>\n",
       "      <td>51.000000</td>\n",
       "      <td>34.693750</td>\n",
       "      <td>2.000000</td>\n",
       "      <td>16639.912515</td>\n",
       "    </tr>\n",
       "    <tr>\n",
       "      <th>max</th>\n",
       "      <td>64.000000</td>\n",
       "      <td>53.130000</td>\n",
       "      <td>5.000000</td>\n",
       "      <td>63770.428010</td>\n",
       "    </tr>\n",
       "  </tbody>\n",
       "</table>\n",
       "</div>"
      ],
      "text/plain": [
       "               age          bmi     children       charges\n",
       "count  1338.000000  1338.000000  1338.000000   1338.000000\n",
       "mean     39.207025    30.663397     1.094918  13270.422265\n",
       "std      14.049960     6.098187     1.205493  12110.011237\n",
       "min      18.000000    15.960000     0.000000   1121.873900\n",
       "25%      27.000000    26.296250     0.000000   4740.287150\n",
       "50%      39.000000    30.400000     1.000000   9382.033000\n",
       "75%      51.000000    34.693750     2.000000  16639.912515\n",
       "max      64.000000    53.130000     5.000000  63770.428010"
      ]
     },
     "execution_count": 4,
     "metadata": {},
     "output_type": "execute_result"
    }
   ],
   "source": [
    "df.describe()"
   ]
  },
  {
   "cell_type": "code",
   "execution_count": 5,
   "metadata": {},
   "outputs": [
    {
     "data": {
      "text/plain": [
       "age         0\n",
       "sex         0\n",
       "bmi         0\n",
       "children    0\n",
       "smoker      0\n",
       "region      0\n",
       "charges     0\n",
       "dtype: int64"
      ]
     },
     "execution_count": 5,
     "metadata": {},
     "output_type": "execute_result"
    }
   ],
   "source": [
    "df.isnull().sum()"
   ]
  },
  {
   "cell_type": "code",
   "execution_count": 11,
   "metadata": {},
   "outputs": [
    {
     "data": {
      "text/plain": [
       "<AxesSubplot:title={'center':'Age vs BMI'}, xlabel='Age', ylabel='BMI'>"
      ]
     },
     "execution_count": 11,
     "metadata": {},
     "output_type": "execute_result"
    },
    {
     "data": {
      "image/png": "[encoded data removed]",
      "text/plain": [
       "<Figure size 432x288 with 1 Axes>"
      ]
     },
     "metadata": {
      "needs_background": "light"
     },
     "output_type": "display_data"
    }
   ],
   "source": [
    "plt.xlabel(\"Age\")\n",
    "plt.ylabel(\"BMI\")\n",
    "plt.title(\"Age vs BMI\")\n",
    "\n",
    "sns.lineplot(x=\"age\",y=\"bmi\",data=df)"
   ]
  },
  {
   "cell_type": "code",
   "execution_count": 21,
   "metadata": {},
   "outputs": [],
   "source": [
    "df1=df.copy()"
   ]
  },
  {
   "cell_type": "code",
   "execution_count": 39,
   "metadata": {},
   "outputs": [],
   "source": [
    "females=df.loc[df[\"sex\"]==\"female\"]\n",
    "female_smokers=females.loc[females[\"smoker\"]==\"yes\"]\n",
    "female_smokers=female_smokers[\"sex\"]\n",
    "        \n",
    "        "
   ]
  },
  {
   "cell_type": "code",
   "execution_count": 40,
   "metadata": {},
   "outputs": [],
   "source": [
    "males=df.loc[df[\"sex\"]==\"male\"]\n",
    "male_smokers=males.loc[males[\"smoker\"]==\"yes\"]\n",
    "male_smokers=male_smokers[\"sex\"]"
   ]
  },
  {
   "cell_type": "code",
   "execution_count": 66,
   "metadata": {},
   "outputs": [
    {
     "data": {
      "image/png": "[encoded data removed]",
      "text/plain": [
       "<Figure size 432x288 with 1 Axes>"
      ]
     },
     "metadata": {},
     "output_type": "display_data"
    }
   ],
   "source": [
    "labels=[\"smoker\",\"non_smoker\"]\n",
    "vals=[female_smokers.value_counts().sum(),df[df.sex==\"female\"].value_counts().sum()]\n",
    "plt.title(\"Female Smokers\")\n",
    "plt.pie(vals,labels=labels,autopct=\"%0.2f%%\")\n",
    "plt.show()\n",
    "\n",
    "\n"
   ]
  },
  {
   "cell_type": "code",
   "execution_count": 68,
   "metadata": {},
   "outputs": [
    {
     "data": {
      "image/png": "[encoded data removed]",
      "text/plain": [
       "<Figure size 432x288 with 1 Axes>"
      ]
     },
     "metadata": {},
     "output_type": "display_data"
    }
   ],
   "source": [
    "labels=[\"smoker\",\"non_smoker\"]\n",
    "vals=[male_smokers.value_counts().sum(),df[df[\"sex\"]==\"male\"].value_counts().sum()]\n",
    "plt.title(\"Male Smokers\")\n",
    "plt.pie(vals,labels=labels,autopct=\"%0.2f%%\")\n",
    "plt.show()"
   ]
  },
  {
   "cell_type": "code",
   "execution_count": 109,
   "metadata": {},
   "outputs": [
    {
     "data": {
      "image/png": "[encoded data removed]",
      "text/plain": [
       "<Figure size 432x288 with 1 Axes>"
      ]
     },
     "metadata": {
      "needs_background": "light"
     },
     "output_type": "display_data"
    }
   ],
   "source": [
    "plt.title(\"Count of NO. of Children\")\n",
    "\n",
    "plt.hist(df[\"children\"],bins=65)\n",
    "plt.show()"
   ]
  },
  {
   "cell_type": "code",
   "execution_count": 110,
   "metadata": {},
   "outputs": [
    {
     "data": {
      "text/plain": [
       "<AxesSubplot:xlabel='age', ylabel='children'>"
      ]
     },
     "execution_count": 110,
     "metadata": {},
     "output_type": "execute_result"
    },
    {
     "data": {
      "image/png": "[encoded data removed]",
      "text/plain": [
       "<Figure size 432x288 with 1 Axes>"
      ]
     },
     "metadata": {
      "needs_background": "light"
     },
     "output_type": "display_data"
    }
   ],
   "source": [
    "sns.scatterplot(x=\"age\",y=\"children\",data=df,color=\"k\")"
   ]
  },
  {
   "cell_type": "code",
   "execution_count": 111,
   "metadata": {},
   "outputs": [
    {
     "data": {
      "text/plain": [
       "<AxesSubplot:xlabel='age', ylabel='charges'>"
      ]
     },
     "execution_count": 111,
     "metadata": {},
     "output_type": "execute_result"
    },
    {
     "data": {
      "image/png": "[encoded data removed]",
      "text/plain": [
       "<Figure size 432x288 with 1 Axes>"
      ]
     },
     "metadata": {
      "needs_background": "light"
     },
     "output_type": "display_data"
    }
   ],
   "source": [
    "sns.lineplot(x=\"age\",y=\"charges\",data=df)"
   ]
  },
  {
   "cell_type": "code",
   "execution_count": 112,
   "metadata": {},
   "outputs": [
    {
     "data": {
      "text/plain": [
       "array(['southwest', 'southeast', 'northwest', 'northeast'], dtype=object)"
      ]
     },
     "execution_count": 112,
     "metadata": {},
     "output_type": "execute_result"
    }
   ],
   "source": [
    "df.region.unique()"
   ]
  },
  {
   "cell_type": "code",
   "execution_count": 113,
   "metadata": {},
   "outputs": [
    {
     "data": {
      "image/png": "[encoded data removed]",
      "text/plain": [
       "<Figure size 432x288 with 1 Axes>"
      ]
     },
     "metadata": {
      "needs_background": "light"
     },
     "output_type": "display_data"
    }
   ],
   "source": [
    "ax=plt.figure()\n",
    "\n",
    "plt.title(\"Premium According to Different Regions\")\n",
    "\n",
    "ax=sns.barplot(x='region',y=\"charges\",data=df)\n",
    "plt.show()"
   ]
  },
  {
   "cell_type": "code",
   "execution_count": 116,
   "metadata": {},
   "outputs": [
    {
     "data": {
      "text/plain": [
       "<AxesSubplot:xlabel='sex', ylabel='charges'>"
      ]
     },
     "execution_count": 116,
     "metadata": {},
     "output_type": "execute_result"
    },
    {
     "data": {
      "image/png": "[encoded data removed]",
      "text/plain": [
       "<Figure size 432x288 with 1 Axes>"
      ]
     },
     "metadata": {
      "needs_background": "light"
     },
     "output_type": "display_data"
    }
   ],
   "source": [
    "sns.barplot(x=\"sex\",y=\"charges\",data=df)"
   ]
  },
  {
   "cell_type": "code",
   "execution_count": 117,
   "metadata": {},
   "outputs": [],
   "source": [
    "df[\"sex\"]=df[\"sex\"].map({\"female\":0,\"male\":1})\n",
    "df[\"smoker\"]=df[\"smoker\"].map({\"yes\":1,\"no\":0})"
   ]
  },
  {
   "cell_type": "code",
   "execution_count": 119,
   "metadata": {},
   "outputs": [
    {
     "name": "stdout",
     "output_type": "stream",
     "text": [
      "<class 'pandas.core.frame.DataFrame'>\n",
      "RangeIndex: 1338 entries, 0 to 1337\n",
      "Data columns (total 7 columns):\n",
      " #   Column    Non-Null Count  Dtype  \n",
      "---  ------    --------------  -----  \n",
      " 0   age       1338 non-null   int64  \n",
      " 1   sex       1338 non-null   int64  \n",
      " 2   bmi       1338 non-null   float64\n",
      " 3   children  1338 non-null   int64  \n",
      " 4   smoker    1338 non-null   int64  \n",
      " 5   region    1338 non-null   object \n",
      " 6   charges   1338 non-null   float64\n",
      "dtypes: float64(2), int64(4), object(1)\n",
      "memory usage: 73.3+ KB\n"
     ]
    }
   ],
   "source": [
    "df.info()"
   ]
  },
  {
   "cell_type": "code",
   "execution_count": 121,
   "metadata": {},
   "outputs": [
    {
     "data": {
      "image/png": "[encoded data removed]",
      "text/plain": [
       "<Figure size 432x288 with 1 Axes>"
      ]
     },
     "metadata": {},
     "output_type": "display_data"
    }
   ],
   "source": [
    "\n",
    "\n",
    "plt.pie(df[\"region\"].value_counts(),labels=df[\"region\"].unique(),autopct=\"%0.2f%%\")\n",
    "plt.show()"
   ]
  },
  {
   "cell_type": "code",
   "execution_count": 122,
   "metadata": {},
   "outputs": [],
   "source": [
    "from sklearn.preprocessing import LabelEncoder\n",
    "encoder=LabelEncoder()"
   ]
  },
  {
   "cell_type": "code",
   "execution_count": 124,
   "metadata": {},
   "outputs": [],
   "source": [
    "encoder.fit(df[\"region\"])\n",
    "df[\"region\"]=encoder.transform(df[\"region\"])"
   ]
  },
  {
   "cell_type": "code",
   "execution_count": 125,
   "metadata": {},
   "outputs": [
    {
     "name": "stdout",
     "output_type": "stream",
     "text": [
      "<class 'pandas.core.frame.DataFrame'>\n",
      "RangeIndex: 1338 entries, 0 to 1337\n",
      "Data columns (total 7 columns):\n",
      " #   Column    Non-Null Count  Dtype  \n",
      "---  ------    --------------  -----  \n",
      " 0   age       1338 non-null   int64  \n",
      " 1   sex       1338 non-null   int64  \n",
      " 2   bmi       1338 non-null   float64\n",
      " 3   children  1338 non-null   int64  \n",
      " 4   smoker    1338 non-null   int64  \n",
      " 5   region    1338 non-null   int32  \n",
      " 6   charges   1338 non-null   float64\n",
      "dtypes: float64(2), int32(1), int64(4)\n",
      "memory usage: 68.1 KB\n"
     ]
    }
   ],
   "source": [
    "df.info()"
   ]
  },
  {
   "cell_type": "code",
   "execution_count": 126,
   "metadata": {},
   "outputs": [
    {
     "data": {
      "text/plain": [
       "array([3, 2, 1, 0])"
      ]
     },
     "execution_count": 126,
     "metadata": {},
     "output_type": "execute_result"
    }
   ],
   "source": [
    "df[\"region\"].unique()"
   ]
  },
  {
   "cell_type": "code",
   "execution_count": 128,
   "metadata": {},
   "outputs": [],
   "source": [
    "from sklearn.model_selection import train_test_split\n"
   ]
  },
  {
   "cell_type": "code",
   "execution_count": 141,
   "metadata": {},
   "outputs": [],
   "source": [
    "X=np.array(df[[\"age\",\"children\",\"bmi\",\"sex\",\"smoker\",\"region\"]])\n",
    "X\n",
    "\n",
    "\n",
    "y=np.array(df[[\"charges\"]])\n",
    "y\n",
    "\n",
    "\n",
    "\n",
    "X_train,X_test,y_train,y_test=train_test_split(X,y,test_size=0.3)"
   ]
  },
  {
   "cell_type": "code",
   "execution_count": 142,
   "metadata": {},
   "outputs": [],
   "source": [
    "from sklearn.ensemble import RandomForestRegressor\n",
    "from sklearn.linear_model import Ridge\n",
    "from sklearn.svm import SVR"
   ]
  },
  {
   "cell_type": "code",
   "execution_count": 143,
   "metadata": {},
   "outputs": [
    {
     "name": "stderr",
     "output_type": "stream",
     "text": [
      "C:\\Users\\Om\\AppData\\Local\\Programs\\Python\\Python36\\lib\\site-packages\\ipykernel_launcher.py:2: DataConversionWarning: A column-vector y was passed when a 1d array was expected. Please change the shape of y to (n_samples,), for example using ravel().\n",
      "  \n"
     ]
    },
    {
     "data": {
      "text/plain": [
       "RandomForestRegressor()"
      ]
     },
     "execution_count": 143,
     "metadata": {},
     "output_type": "execute_result"
    }
   ],
   "source": [
    "regressor=RandomForestRegressor()\n",
    "regressor.fit(X_train,y_train)"
   ]
  },
  {
   "cell_type": "code",
   "execution_count": 147,
   "metadata": {},
   "outputs": [],
   "source": [
    "from sklearn.metrics import mean_squared_error"
   ]
  },
  {
   "cell_type": "code",
   "execution_count": 152,
   "metadata": {},
   "outputs": [
    {
     "data": {
      "text/plain": [
       "24613615.441851888"
      ]
     },
     "execution_count": 152,
     "metadata": {},
     "output_type": "execute_result"
    }
   ],
   "source": [
    "y_pred=regressor.predict(X_test)\n",
    "y_pred\n",
    "mean_squared_error(y_pred,y_test)"
   ]
  },
  {
   "cell_type": "code",
   "execution_count": 153,
   "metadata": {},
   "outputs": [
    {
     "data": {
      "text/plain": [
       "array([15393.7808278 , 47030.693823  , 10822.4445515 ,  2583.4296155 ,\n",
       "        7784.134997  ,  7393.0486219 , 10233.6527705 , 13115.2676922 ,\n",
       "       18410.984424  , 34274.5995656 ,  5104.6617425 , 14243.6140313 ,\n",
       "       10477.2258096 ,  2852.9850139 , 13548.2629828 , 12642.2229705 ,\n",
       "        7746.8626297 ,  6175.9041437 ,  1880.2219135 , 11187.1891106 ,\n",
       "       11213.0667989 ,  9727.3239637 ,  6127.1142675 , 11086.1791854 ,\n",
       "        3845.7817835 ,  4004.640746  , 25176.0033995 ,  9638.3483426 ,\n",
       "       18122.8516447 ,  6473.0346813 ,  2577.8265612 ,  3369.3286697 ,\n",
       "       14412.7299319 ,  7141.4139392 ,  2181.6516865 , 12294.642199  ,\n",
       "       13575.5747316 , 15689.3967645 ,  4414.6291124 ,  2068.247634  ,\n",
       "       13767.741297  ,  8119.7315245 ,  8631.419954  ,  1648.425097  ,\n",
       "        3619.6140742 , 45251.8939155 , 10192.8279638 , 39890.6629495 ,\n",
       "        1728.218789  ,  4159.0543495 , 12342.7605568 , 14682.3741296 ,\n",
       "        8491.4791673 , 39195.8707722 , 12059.5475776 , 10964.1563789 ,\n",
       "        7687.5403748 ,  6157.8340635 ,  6723.6113545 ,  5280.4006058 ,\n",
       "        5197.3597075 , 23165.059986  , 48121.2793005 , 47723.382588  ,\n",
       "       39208.421276  ,  5295.0317722 ,  7761.6091786 ,  9902.1499994 ,\n",
       "        6519.8032022 , 11586.1097836 , 13639.1438941 , 20932.2875056 ,\n",
       "        9271.079893  , 17258.9441346 ,  3268.1846854 ,  7045.2668369 ,\n",
       "        4990.9194657 ,  9911.7729357 , 27493.1997323 , 10453.4413837 ,\n",
       "       14821.4559656 , 15243.0263024 ,  6827.791451  ,  7980.470368  ,\n",
       "        5698.8170312 ,  2337.197284  , 17375.1776514 , 15563.3077126 ,\n",
       "        1627.564433  , 16639.0310206 , 14076.9056659 , 41858.6424613 ,\n",
       "       26329.850985  , 12593.4805796 , 19844.6927549 , 47423.1778045 ,\n",
       "        3432.6233644 ,  2202.967088  ,  9423.2240268 ,  1879.2365505 ,\n",
       "       13923.3507521 ,  2451.7735251 ,  4916.56316402, 39540.2264233 ,\n",
       "        6409.1165513 , 12560.9931199 , 42216.0163864 , 10090.1939639 ,\n",
       "       10917.7276475 , 13439.518045  , 16563.2461285 , 18446.9518498 ,\n",
       "        8036.6676376 ,  1741.5521755 , 13716.3299544 ,  7838.1342341 ,\n",
       "        8487.3123916 , 18504.9755074 , 16356.7955355 ,  2192.371339  ,\n",
       "       12874.7834954 ,  4877.7843442 , 41272.195549  , 14834.6833663 ,\n",
       "        3860.113603  ,  2444.535991  ,  8536.0245948 , 18122.4398328 ,\n",
       "        2362.92788095, 20940.913254  , 13582.288107  ,  8874.2650384 ,\n",
       "        3830.0553065 , 20432.7205022 , 45661.1716431 ,  2605.17295421,\n",
       "        3436.41024994, 12614.4025387 , 13166.0723254 ,  2194.6596265 ,\n",
       "       15720.2859669 , 14083.5326793 , 17442.6441648 , 18437.7036736 ,\n",
       "       16632.4082732 ,  4937.2441319 , 42426.9750613 , 22460.44873   ,\n",
       "        4261.9647881 ,  3394.2762176 , 16139.4157074 , 16734.5400879 ,\n",
       "       14504.1720617 ,  8535.1732324 , 15974.6684188 , 18396.4830037 ,\n",
       "       14862.6582277 ,  3096.2634502 ,  1270.910023  ,  2827.3633438 ,\n",
       "       12142.8654288 , 11839.54016   ,  6583.2454375 ,  2116.384404  ,\n",
       "       12431.9585631 ,  1290.5587185 , 22830.3229188 , 12282.1580541 ,\n",
       "        9707.4667109 ,  6884.2909799 , 46884.7761545 , 16581.4579763 ,\n",
       "        4893.5402245 , 40904.874175  , 29162.8825188 , 13437.021855  ,\n",
       "       11220.1496346 , 18536.1031595 , 11100.8727497 ,  8680.6009304 ,\n",
       "        3598.5963678 , 15102.9383478 ,  1627.717611  ,  2465.6148565 ,\n",
       "       18074.7795896 ,  7588.002845  , 14220.1360952 , 39730.9614465 ,\n",
       "       38770.346418  ,  9096.793628  , 11387.8028134 ,  6671.3947168 ,\n",
       "        2018.996626  ,  3427.7522159 , 19487.3819646 , 14191.2497349 ,\n",
       "        6515.242571  ,  9574.542322  ,  3001.0587231 ,  9197.4517017 ,\n",
       "       19058.997562  , 16524.5527566 ,  3214.1799305 , 10010.6102091 ,\n",
       "        9552.6182446 ,  6424.662896  ,  1640.851534  ,  2362.92788095,\n",
       "        9832.1764035 ,  3997.8026842 , 13055.628181  ,  7268.2286215 ,\n",
       "       17731.2667882 ,  5460.6236981 ,  7653.4981541 ,  3631.847643  ,\n",
       "       20640.0292796 , 21353.9963949 , 41242.1685928 ,  9096.6506984 ,\n",
       "       28873.1689027 , 20305.8536432 , 11401.2863425 ,  3056.5595858 ,\n",
       "        2353.16259   , 14327.480786  , 13737.7433036 , 16626.8774724 ,\n",
       "        5558.2957388 ,  4770.9672403 ,  6096.1896229 , 13107.398882  ,\n",
       "       15300.5237887 , 10713.8308557 , 45736.69495   , 39969.8336754 ,\n",
       "       11145.3861898 , 25693.8199147 , 45370.1572666 ,  6781.7645064 ,\n",
       "       37017.1199334 ,  7973.4672482 ,  5732.3193125 ,  6650.8825107 ,\n",
       "        7145.2777999 ,  6819.0790478 , 17829.2692352 ,  7614.5677559 ,\n",
       "       10273.6422077 , 12302.7638239 ,  1955.1136813 , 15266.4411055 ,\n",
       "       27945.4033334 ,  2510.7673305 ,  3764.0709556 ,  3215.772336  ,\n",
       "        6013.657219  ,  4826.4274744 , 12057.8471775 ,  9994.0500947 ,\n",
       "        1290.5587185 , 23744.2743508 , 35898.1335164 , 10522.8289287 ,\n",
       "       17726.3861039 , 40640.9530829 ,  6384.189888  , 13809.6996388 ,\n",
       "        5288.9018979 , 39134.6283019 , 18702.286556  , 12556.9279968 ,\n",
       "       19845.261697  , 38908.0509164 ,  9690.138576  , 44568.2586686 ,\n",
       "       12756.0479638 ,  9500.378249  , 14377.8808328 ,  8980.7976691 ,\n",
       "        3024.8312121 , 13303.9011786 , 11294.6745861 ,  8320.029665  ,\n",
       "       10666.0045235 , 14551.5620524 , 15413.3422996 ,  2231.0078501 ,\n",
       "        8195.2017918 ,  5391.119789  ,  9121.3221345 , 11998.1201889 ,\n",
       "        6907.6557134 , 11735.5776416 , 45870.4649362 , 15679.1584968 ,\n",
       "       20308.1570324 , 14190.5017464 , 43342.3790422 ,  8556.3714207 ,\n",
       "       10374.0933282 , 25697.9474531 , 17979.0001715 , 14415.8742525 ,\n",
       "        7888.0737831 , 15156.5829326 , 27154.1664391 ,  2736.8435335 ,\n",
       "        4615.3177115 ,  1569.91324   , 10786.2020872 ,  7172.2271801 ,\n",
       "       16593.0446144 , 15721.086266  ,  3653.1756453 , 43687.4880418 ,\n",
       "       33754.4149575 ,  5121.0378336 ,  8892.9296965 , 10121.7849887 ,\n",
       "        4180.865297  ,  5065.5562265 , 43881.7887612 , 10245.9107863 ,\n",
       "        2620.2524375 ,  5004.9208688 ,  6505.2193395 ,  8846.7907636 ,\n",
       "       11577.721938  ,  9367.1883442 ,  7958.445322  , 33886.2778528 ,\n",
       "        5322.2583865 ,  5988.5658355 , 14075.8086725 , 13338.4398357 ,\n",
       "        4672.0513184 ,  4509.8183643 ,  5954.4102122 ,  6005.1037925 ,\n",
       "       16894.6650938 ,  5566.5418459 , 38371.8089978 , 13508.6552551 ,\n",
       "       19481.480034  , 11620.7740579 ,  2464.7148786 , 19006.663971  ,\n",
       "       11440.3834133 , 46535.6140235 , 46995.8154461 , 11258.6374496 ,\n",
       "       10186.5708458 ,  2168.8684315 , 19690.5851661 , 14674.2850191 ,\n",
       "       44265.7091495 , 19917.0394717 , 12613.6887819 , 39414.3906686 ,\n",
       "        7699.2694579 , 10512.7703072 , 11564.8432481 , 12095.5866153 ,\n",
       "       12347.2491866 , 13082.4675813 ,  8066.0753365 , 40658.3262307 ,\n",
       "        5161.9231025 ,  8811.2373968 , 19325.2526098 , 18506.9023219 ,\n",
       "       12061.5421445 , 20606.709922  ,  4064.43053367,  7663.9086164 ,\n",
       "        6738.4411385 , 35767.1096363 ,  7378.3180301 , 19968.6816625 ,\n",
       "        6986.389886  , 22448.1177025 , 40379.2922706 ,  3751.9666487 ,\n",
       "        8157.972547  ,  6645.0966658 , 27557.8201178 , 13409.478924  ,\n",
       "        2883.829386  , 14597.9346772 , 13784.3410659 , 10500.1591577 ,\n",
       "       24480.2074308 , 15318.0236241 ,  1582.6282165 ,  3504.7612092 ,\n",
       "       10780.0074017 ,  2891.172712  , 35223.7000146 ,  4524.3275537 ,\n",
       "        9676.6347215 ,  7216.5040616 ])"
      ]
     },
     "execution_count": 153,
     "metadata": {},
     "output_type": "execute_result"
    }
   ],
   "source": [
    "y_pred"
   ]
  },
  {
   "cell_type": "code",
   "execution_count": null,
   "metadata": {},
   "outputs": [],
   "source": []
  }
 ],
 "metadata": {
  "kernelspec": {
   "display_name": "Python 3.6.7 64-bit",
   "language": "python",
   "name": "python36764bit0b1186c06bb14aef9f873a1204091d79"
  },
  "language_info": {
   "codemirror_mode": {
    "name": "ipython",
    "version": 3
   },
   "file_extension": ".py",
   "mimetype": "text/x-python",
   "name": "python",
   "nbconvert_exporter": "python",
   "pygments_lexer": "ipython3",
   "version": "3.6.7"
  }
 },
 "nbformat": 4,
 "nbformat_minor": 4
}
